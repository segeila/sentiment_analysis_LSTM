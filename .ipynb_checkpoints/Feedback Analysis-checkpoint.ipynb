{
 "cells": [
  {
   "cell_type": "markdown",
   "metadata": {},
   "source": [
    "## Feedback Sentiment Analysis with LSTM"
   ]
  },
  {
   "cell_type": "markdown",
   "metadata": {},
   "source": [
    "![title](img/image.jpg)"
   ]
  },
  {
   "cell_type": "markdown",
   "metadata": {},
   "source": [
    "Generally speaking, sentiment analysis aims to determine the attitude of a speaker, writer, or other subject with respect to some topic or the overall contextual polarity or emotional reaction to a document, interaction, or event. https://en.wikipedia.org/wiki/Sentiment_analysis\n",
    "\n",
    "This short demo shows how a Recurrent Neural Network (RNN) using the Long Short Term Memory (LSTM) architecture can be used for text sentiment analysis. A model that was pre-trained on more than a million tweets written in English will be used to make prediction on a new unseen data.\n",
    "\n",
    "Check train.py file to see how training process was organized."
   ]
  },
  {
   "cell_type": "markdown",
   "metadata": {},
   "source": [
    "We start by importing necessary libraries and modules."
   ]
  },
  {
   "cell_type": "code",
   "execution_count": 101,
   "metadata": {},
   "outputs": [],
   "source": [
    "import numpy as np\n",
    "import keras\n",
    "import re\n",
    "import pickle\n",
    "\n",
    "from keras.models import Sequential\n",
    "from keras.layers import Dense, LSTM\n",
    "from keras.layers.embeddings import Embedding\n",
    "from keras.preprocessing import sequence\n",
    "from keras.preprocessing.text import Tokenizer\n",
    "import matplotlib.pyplot as plt\n",
    "%matplotlib inline"
   ]
  },
  {
   "cell_type": "code",
   "execution_count": 72,
   "metadata": {},
   "outputs": [],
   "source": [
    "# Loading tokenizer which was created during training stage.\n",
    "with open('tokenizer/tokenizer.pickle', 'rb') as handle:\n",
    "    tokenizer = pickle.load(handle)"
   ]
  },
  {
   "cell_type": "markdown",
   "metadata": {},
   "source": [
    "Next we create a model with the same architecture that was used during training stage and load weights. "
   ]
  },
  {
   "cell_type": "code",
   "execution_count": 71,
   "metadata": {},
   "outputs": [
    {
     "name": "stdout",
     "output_type": "stream",
     "text": [
      "_________________________________________________________________\n",
      "Layer (type)                 Output Shape              Param #   \n",
      "=================================================================\n",
      "embedding_5 (Embedding)      (None, 84, 200)           400000    \n",
      "_________________________________________________________________\n",
      "lstm_5 (LSTM)                (None, 200)               320800    \n",
      "_________________________________________________________________\n",
      "dense_5 (Dense)              (None, 1)                 201       \n",
      "=================================================================\n",
      "Total params: 721,001\n",
      "Trainable params: 721,001\n",
      "Non-trainable params: 0\n",
      "_________________________________________________________________\n"
     ]
    }
   ],
   "source": [
    "max_features = 2000 #Size of vocabulary \n",
    "sequence_length = 84 #Length of each input text is limited by 84 words.\n",
    "\n",
    "model = Sequential()\n",
    "model.add(Embedding(input_dim = max_features, output_dim = 200, input_length=sequence_length))\n",
    "model.add(LSTM(200))\n",
    "model.add(Dense(1, activation='sigmoid'))\n",
    "model.summary()\n",
    "model.load_weights('weights/sentiment_weights.h5')\n",
    "model.compile(optimizer='adam', loss='binary_crossentropy', metrics=['accuracy'])"
   ]
  },
  {
   "cell_type": "markdown",
   "metadata": {},
   "source": [
    "We will use a help function to preprocess the input. It will take a string as an input, tokenize it and reshape it to a sequence that can be fed to our model. "
   ]
  },
  {
   "cell_type": "code",
   "execution_count": 20,
   "metadata": {
    "collapsed": true
   },
   "outputs": [],
   "source": [
    "def preprocess_feedback(feedback, tokenizer):\n",
    "    preprocessed_feedback = feedback.lower()\n",
    "    preprocessed_feedback = re.sub('[^a-zA-Z0-9\\s]','', preprocessed_feedback)\n",
    "    preprocessed_feedback = np.array(preprocessed_feedback.split(' '))\n",
    "    preprocessed_feedback = tokenizer.texts_to_sequences(preprocessed_feedback)\n",
    "    preprocessed_feedback = [item for sublist in preprocessed_feedback for item in sublist]\n",
    "    preprocessed_feedback = np.array(preprocessed_feedback)\n",
    "    preprocessed_feedback = preprocessed_feedback.reshape(-1, len(preprocessed_feedback))\n",
    "    preprocessed_feedback = sequence.pad_sequences(preprocessed_feedback, maxlen = 84)\n",
    "    \n",
    "    return preprocessed_feedback"
   ]
  },
  {
   "cell_type": "markdown",
   "metadata": {},
   "source": [
    "First we will check how accurately our model can grade a new input. I have gathered a few messages from a conversation with one of my friends that we had on Facebook few days ago. They are saved in facebook_samples.txt. Each line is a separate phrase in a conversation.\n",
    "\n",
    "We load content, loop over all lines and print out prediction of our model."
   ]
  },
  {
   "cell_type": "code",
   "execution_count": 73,
   "metadata": {},
   "outputs": [],
   "source": [
    "with open('samples/facebook_samples.txt') as f:\n",
    "    facebook_samples = f.readlines()\n",
    "    \n",
    "facebook_samples = [x.strip() for x in facebook_samples]"
   ]
  },
  {
   "cell_type": "code",
   "execution_count": 74,
   "metadata": {},
   "outputs": [
    {
     "name": "stdout",
     "output_type": "stream",
     "text": [
      "Sentence to analyse: \t Yeah that makes sense. Not sure how much one lecture would help though.\n",
      "Predicted 0.271% positive. \n",
      "\n",
      "Sentence to analyse: \t I just saw, there is only one lecture left on 12.03\n",
      "Predicted 0.026% positive. \n",
      "\n",
      "Sentence to analyse: \t I can manage to come at that time that's why I thought maybe I could join as well.\n",
      "Predicted 0.983% positive. \n",
      "\n",
      "Sentence to analyse: \t He was happy with this DL and Transfer learning thing. So I will stick to this idea and find the best architecture and dataset to apply this to my application.\n",
      "Predicted 0.985% positive. \n",
      "\n",
      "Sentence to analyse: \t It's not fun and not much learning involved if you just stick to one domain or project.\n",
      "Predicted 0.317% positive. \n",
      "\n",
      "Sentence to analyse: \t Basically I told him in nice words that I won't be forever developing this product.\n",
      "Predicted 0.763% positive. \n",
      "\n",
      "Sentence to analyse: \t But I don't think it's a huge thing now like it was before except for in computer vision applications.\n",
      "Predicted 0.068% positive. \n",
      "\n",
      "Sentence to analyse: \t Well I guess it's not very useful mechanically then for any other task otherwise it would still be in Berkeley.\n",
      "Predicted 0.473% positive. \n",
      "\n",
      "Sentence to analyse: \t Maybe they have something against me.\n",
      "Predicted 0.173% positive. \n",
      "\n",
      "Sentence to analyse: \t Verkkokauppa has some serious problems.\n",
      "Predicted 0.015% positive. \n",
      "\n",
      "Sentence to analyse: \t Didn't I tell you what happened with TV again? Verkkokauppa didn't accept my again.\n",
      "Predicted 0.587% positive. \n",
      "\n",
      "Sentence to analyse: \t Well I have been receiving constant NOs from big companies.\n",
      "Predicted 0.137% positive. \n",
      "\n",
      "Sentence to analyse: \t I mean I got the same rejection email apparently you got.\n",
      "Predicted 0.272% positive. \n",
      "\n",
      "Sentence to analyse: \t Nice to know my convo is part of the demo.\n",
      "Predicted 0.985% positive. \n",
      "\n"
     ]
    }
   ],
   "source": [
    "for line in facebook_samples:\n",
    "    print('Sentence to analyse: \\t %s' % line)\n",
    "    score = model.predict(preprocess_feedback(line, tokenizer))[0][0]\n",
    "    print(('Predicted %.3f' % score) + '% positive. \\n')"
   ]
  },
  {
   "cell_type": "markdown",
   "metadata": {},
   "source": [
    "Results look relevant.\n",
    "\n",
    "However, originally this use case has been ment to be used as a part of automatic feedback analysis for Espoo Karage. It is a place where Nokia employees can spend their free time playing around with various technologies. Among different assests there are 3D printes, sensors, RaspberryPi, Lego Mindstorm kit. Additionally, there is a Media Lab and Engineering Room. Since at the momement there is no actual feedback available we will use reviews about Heureka, the Finnish Science Centre which can be found from tripadvisor.com.\n",
    "\n",
    "Reviews are available in heureka_samples.txt file. First five reviews are 5 star, another 5 reviews are either 1 or 2 stars."
   ]
  },
  {
   "cell_type": "code",
   "execution_count": 65,
   "metadata": {},
   "outputs": [],
   "source": [
    "with open('samples/heureka samples.txt') as f:\n",
    "    heureka_samples = f.readlines()\n",
    "    \n",
    "heureka_samples = [x.strip() for x in heureka_samples]"
   ]
  },
  {
   "cell_type": "code",
   "execution_count": 66,
   "metadata": {},
   "outputs": [
    {
     "name": "stdout",
     "output_type": "stream",
     "text": [
      "Sentence 1 to analyse: \t We visited on a rainy day and it was a pleasent surprise :) it's not just for kids, adults can learn and play too! I totally recommend the planetarium. And the exhibition at the time was about animals inside out, which was very interesting.\n",
      "Predicted 0.996% positive. \n",
      "\n",
      "Sentence 2 to analyse: \t This fantastic science museum is a great way to spend a day. There are so many interactive exhibits related to physics (with text in four languages) along with several stations where visitors can build things, such as model cars to be raced.\n",
      "Predicted 0.960% positive. \n",
      "\n",
      "Sentence 3 to analyse: \t If you are a family with kids visiting Helsinki area, Heureka is defenately worth the visit. There are usually some changing exhibitions, but also the permanent exhibition is really fun.\n",
      "Predicted 0.996% positive. \n",
      "\n",
      "Sentence 4 to analyse: \t Maybe it's true, maybe not, but unique Finnish approach, their smart attitude, minimal yet fully functional design, educational capacity and the care about real people couldn't probably be more visible and recognisable than here where the complex realm of science is translated into understandable and attractive stories and experiences, which are always highly influencing our lives and our understanding of the world we're belonging to.\n",
      "Predicted 0.707% positive. \n",
      "\n",
      "Sentence 5 to analyse: \t One of the places in Finland if not the best. Not only for children but also fur play-minded adults. Many things to learn and experience.\n",
      "Predicted 0.965% positive. \n",
      "\n",
      "Sentence 6 to analyse: \t What a disappointment, I was expecting a huge building with many things to see, but it was tiny and uninteresting.\n",
      "Predicted 0.055% positive. \n",
      "\n",
      "Sentence 7 to analyse: \t Frankly, I don't know what they show now but the best Finnish inventions are not visible.\n",
      "Predicted 0.180% positive. \n",
      "\n",
      "Sentence 8 to analyse: \t To give the gist of our visit: There is not really anything remarkable displayed in the museum.\n",
      "Predicted 0.313% positive. \n",
      "\n",
      "Sentence 9 to analyse: \t The science part was not very strong in most of these, i.e. you would not really learn anything new, although many of the experiments demonstrated some basic physical principle or a visual illusion.\n",
      "Predicted 0.859% positive. \n",
      "\n",
      "Sentence 10 to analyse: \t We thought spending a rainy day in Heureka Science Center would be a good idea, unfortunately it wasn't.\n",
      "Predicted 0.041% positive. \n",
      "\n"
     ]
    }
   ],
   "source": [
    "for ind, line in enumerate(heureka_samples):\n",
    "    print('Sentence %d to analyse: \\t %s' % (ind+1, line))\n",
    "    score = model.predict(preprocess_feedback(line, tokenizer))[0][0]\n",
    "    print(('Predicted %.3f' % score) + '% positive. \\n')"
   ]
  },
  {
   "cell_type": "markdown",
   "metadata": {},
   "source": [
    "Except for sentence 9 our model demonstrated good results.\n",
    "\n",
    "However, it is possible to find examples that confuse our model. Let's have a look at examples that Wikipedia counts as more challenging cases for sentiment analysis.\n",
    "\n",
    "confusing_sample_01 - Qualified positive sentiment, difficult to categorise.\n",
    "confusing_sample_01 - Attitudinal term has shifted polarity recently in certain domains.\n",
    "confusing_sample_03 - Negative term used in a positive sense in certain domains.\n",
    "confusing_sample_04 - Possibly sarcastic.\n",
    "confusing_sample_05 - Negation handling.\n",
    "confusing_sample_06 - Negation, inverted word order."
   ]
  },
  {
   "cell_type": "code",
   "execution_count": 51,
   "metadata": {},
   "outputs": [
    {
     "name": "stdout",
     "output_type": "stream",
     "text": [
      "0.14047831\n"
     ]
    }
   ],
   "source": [
    "confusing_sample_01 = 'I love my mobile but would not recommend it to any of my colleagues.'\n",
    "print(model.predict(preprocess_feedback(confusing_sample_01, tokenizer))[0][0])"
   ]
  },
  {
   "cell_type": "code",
   "execution_count": 53,
   "metadata": {},
   "outputs": [
    {
     "name": "stdout",
     "output_type": "stream",
     "text": [
      "0.9734213\n"
     ]
    }
   ],
   "source": [
    "confusing_sample_02 = 'You should see their decadent dessert menu.'\n",
    "print(model.predict(preprocess_feedback(confusing_sample_02, tokenizer))[0][0])"
   ]
  },
  {
   "cell_type": "code",
   "execution_count": 54,
   "metadata": {},
   "outputs": [
    {
     "name": "stdout",
     "output_type": "stream",
     "text": [
      "0.7475389\n"
     ]
    }
   ],
   "source": [
    "confusing_sample_03 = 'The movie is surprising with plenty of unsettling plot twists.'\n",
    "print(model.predict(preprocess_feedback(confusing_sample_03, tokenizer))[0][0])"
   ]
  },
  {
   "cell_type": "code",
   "execution_count": 55,
   "metadata": {},
   "outputs": [
    {
     "name": "stdout",
     "output_type": "stream",
     "text": [
      "0.8814523\n"
     ]
    }
   ],
   "source": [
    "confusing_sample_04 = 'I\\'d really truly love going out in this weather!'\n",
    "print(model.predict(preprocess_feedback(confusing_sample_04, tokenizer))[0][0])"
   ]
  },
  {
   "cell_type": "code",
   "execution_count": 56,
   "metadata": {},
   "outputs": [
    {
     "name": "stdout",
     "output_type": "stream",
     "text": [
      "0.2416125\n"
     ]
    }
   ],
   "source": [
    "confusing_sample_05 = 'I do not dislike cabin cruisers.'\n",
    "print(model.predict(preprocess_feedback(confusing_sample_05, tokenizer))[0][0])"
   ]
  },
  {
   "cell_type": "code",
   "execution_count": 57,
   "metadata": {},
   "outputs": [
    {
     "name": "stdout",
     "output_type": "stream",
     "text": [
      "0.26953045\n"
     ]
    }
   ],
   "source": [
    "confusing_sample_06 = 'Disliking watercraft is not really my thing.'\n",
    "print(model.predict(preprocess_feedback(confusing_sample_06, tokenizer))[0][0])"
   ]
  },
  {
   "cell_type": "markdown",
   "metadata": {},
   "source": [
    "As we can see our model has difficult times recognizing sarcasm and handling negation. At the same time, twitter dataset that was used to train our model probably doesn't include such examples from which model would be able to learn to correctly recognize these patterns.\n",
    "\n",
    "Now let's look at samples that we created. I am using texts posted in LinkedIn conversation. They can be found in nokia_samples.txt. "
   ]
  },
  {
   "cell_type": "code",
   "execution_count": 126,
   "metadata": {},
   "outputs": [],
   "source": [
    "with open('samples/nokia_samples.txt') as f:\n",
    "    nokia_samples = f.readlines()\n",
    "    \n",
    "nokia_samples = [x.strip().replace('\\n', '') for x in nokia_samples]"
   ]
  },
  {
   "cell_type": "code",
   "execution_count": 171,
   "metadata": {},
   "outputs": [
    {
     "name": "stdout",
     "output_type": "stream",
     "text": [
      "Abstract to analyse: \t Hey folks — just creating this group so we keep in touch with all the cool stuff that’s happening in the world of deep learning. I think we should stay in warm contact now. I’ll keep posting stuff here which you’ll appreciate hopefully. You can always put notification to mute in case it’s too much info. Have a great weekend & we’ll stay in touch. \n",
      "\n",
      "Sentence 1: Hey folks — just creating this group so we keep in touch with all the cool stuff that’s happening in the world of deep learning\n",
      "Predicted 0.998% positive. \n",
      "\n",
      "Sentence 2:  I think we should stay in warm contact now\n",
      "Predicted 0.850% positive. \n",
      "\n",
      "Sentence 3:  I’ll keep posting stuff here which you’ll appreciate hopefully\n",
      "Predicted 0.954% positive. \n",
      "\n",
      "Sentence 4:  You can always put notification to mute in case it’s too much info\n",
      "Predicted 0.986% positive. \n",
      "\n",
      "Sentence 5:  Have a great weekend & we’ll stay in touch\n",
      "Predicted 0.937% positive. \n",
      "\n",
      "------------------------------\n",
      "Abstract to analyse: \t Ancient bold and the beautiful the Finnish way, enjoy. It was another great and ispiring week, thanks a lot, and good luck with capsules, the book, and all other things - hope to stay in touch and see you again. I'll appreciate your posts, thanks already for that, too. \n",
      "\n",
      "Sentence 1: Ancient bold and the beautiful the Finnish way, enjoy\n",
      "Predicted 0.999% positive. \n",
      "\n",
      "Sentence 2:  It was another great and ispiring week, thanks a lot, and good luck with capsules, the book, and all other things - hope to stay in touch and see you again\n",
      "Predicted 0.954% positive. \n",
      "\n",
      "Sentence 3:  I'll appreciate your posts, thanks already for that, too\n",
      "Predicted 0.995% positive. \n",
      "\n",
      "------------------------------\n",
      "Abstract to analyse: \t Good morning — thought I share this pretty little present from Henna for my trip to SF. This is a secret special part I have added. It tells how unfortunate it was when we could not get our GPUs from Amazon. How frustrating and disappointed we felt. How close we were to giving up. And how Tarry and Huadong together with other deep learners showed incredible determination, power of will and dedication and saved us by setting up Google Cloud virtual machines. Have a great working week & let’s cook some cool deep learning algorithms for Nokia. \n",
      "\n",
      "Sentence 1: Good morning — thought I share this pretty little present from Henna for my trip to SF\n",
      "Predicted 0.964% positive. \n",
      "\n",
      "Sentence 2:  This is a secret special part I have added\n",
      "Predicted 0.986% positive. \n",
      "\n",
      "Sentence 3:  It tells how unfortunate it was when we could not get our GPUs from Amazon\n",
      "Predicted 0.594% positive. \n",
      "\n",
      "Sentence 4:  How frustrating and disappointed we felt\n",
      "Predicted 0.001% positive. \n",
      "\n",
      "Sentence 5:  How close we were to giving up\n",
      "Predicted 0.194% positive. \n",
      "\n",
      "Sentence 6:  And how Tarry and Huadong together with other deep learners showed incredible determination, power of will and dedication and saved us by setting up Google Cloud virtual machines\n",
      "Predicted 0.916% positive. \n",
      "\n",
      "Sentence 7:  Have a great working week & let’s cook some cool deep learning algorithms for Nokia\n",
      "Predicted 0.964% positive. \n",
      "\n",
      "------------------------------\n"
     ]
    },
    {
     "data": {
      "image/png": "[encoded data removed]",
      "text/plain": [
       "<matplotlib.figure.Figure at 0x7f08969206d8>"
      ]
     },
     "metadata": {},
     "output_type": "display_data"
    }
   ],
   "source": [
    "f, (ax1, ax2, ax3) = plt.subplots(3, sharex=False, sharey=False)\n",
    "scores = {}\n",
    "for ind, line in enumerate(nokia_samples):\n",
    "    print('Abstract to analyse: \\t %s \\n' % (line))\n",
    "    sentences = line.strip().split('.')\n",
    "    scores['ax' + str(ind+1)] = []\n",
    "    for index, sentence in enumerate(sentences):\n",
    "        if sentence:\n",
    "            print('Sentence %d: %s' % (index+1, sentence))\n",
    "            score = model.predict(preprocess_feedback(sentence, tokenizer))[0][0]\n",
    "            print(('Predicted %.3f' % score) + '% positive. \\n')\n",
    "            scores['ax' + str(ind+1)].append(score)\n",
    "    y = scores['ax' + str(ind+1)]\n",
    "    x = list(range(1, len(y)+1))\n",
    "    if ind == 0:\n",
    "        ax1.axis([1,len(y),0,1.1])\n",
    "        ax1.plot(x,y, '--go')\n",
    "    elif ind == 1:\n",
    "        ax2.axis([1,len(y),0,1.1])\n",
    "        ax2.plot(x,y, '--go')\n",
    "    elif ind == 2:\n",
    "        ax3.axis([1,len(y),0,1.1])\n",
    "        ax3.plot(x,y, '-ro')\n",
    "    print('-'*30)"
   ]
  },
  {
   "cell_type": "markdown",
   "metadata": {},
   "source": [
    "Notice from the plots how tone of eac abstract changes over time."
   ]
  },
  {
   "cell_type": "markdown",
   "metadata": {},
   "source": [
    "Finally, you can challenge model with your own input. Score shows how positive the input text is."
   ]
  },
  {
   "cell_type": "code",
   "execution_count": 58,
   "metadata": {},
   "outputs": [
    {
     "name": "stdout",
     "output_type": "stream",
     "text": [
      "Write your comment to analyze. \n",
      "I think it was a great example of how LSTM can be used to analyze short text inputs.\n"
     ]
    }
   ],
   "source": [
    "user_input = input('Write your comment to analyze. \\n')"
   ]
  },
  {
   "cell_type": "code",
   "execution_count": 59,
   "metadata": {},
   "outputs": [
    {
     "name": "stdout",
     "output_type": "stream",
     "text": [
      "0.79595304\n"
     ]
    }
   ],
   "source": [
    "print(model.predict(preprocess_feedback(user_input, tokenizer))[0][0])"
   ]
  },
  {
   "cell_type": "markdown",
   "metadata": {},
   "source": [
    "# Additional ideas\n",
    "\n",
    "- Try different architectures in order to achieve higher validation accuracy. Pre-trained model reached 82% accuracy on validation set.\n",
    "- Try combined datasets. There's YELP, IMDB and Amazon datasets for sentiment analysis.\n",
    "- Try to predict on real feedback.\n",
    "- Use feedback loop to ask user if his/her feedback was scored correctly. If not, use feedback text to improve model.\n",
    "- Develop further to extract Name Entities from feedback text (person names, company names, product name, geographical location, etc.)"
   ]
  }
 ],
 "metadata": {
  "kernelspec": {
   "display_name": "Python 3",
   "language": "python",
   "name": "python3"
  },
  "language_info": {
   "codemirror_mode": {
    "name": "ipython",
    "version": 3
   },
   "file_extension": ".py",
   "mimetype": "text/x-python",
   "name": "python",
   "nbconvert_exporter": "python",
   "pygments_lexer": "ipython3",
   "version": "3.5.2"
  }
 },
 "nbformat": 4,
 "nbformat_minor": 2
}
